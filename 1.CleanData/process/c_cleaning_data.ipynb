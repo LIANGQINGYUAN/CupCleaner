{
 "cells": [
  {
   "cell_type": "code",
   "execution_count": 1,
   "metadata": {},
   "outputs": [],
   "source": [
    "import pickle\n",
    "import json\n",
    "import pandas as pd\n",
    "from tqdm import tqdm\n",
    "import matplotlib.pyplot as plt\n",
    "import diff_utils\n",
    "from search_anchor import heuristic_search\n",
    "from utils import overlap_metrixv2, cos_sim, diffsim\n",
    "import numpy as np"
   ]
  },
  {
   "cell_type": "code",
   "execution_count": 9,
   "metadata": {},
   "outputs": [],
   "source": [
    "def get_scores(data, semantics, tag=''):\n",
    "    code_change_list = [' '.join(diff_utils.compute_minimal_comment_diffs(data['old_code'][i].split(),data['new_code'][i].split())[0]) for i in range(len(data))]\n",
    "    comm_change_list = [' '.join(diff_utils.compute_minimal_comment_diffs(data['old_comment'][i].split(),data['new_comment'][i].split())[0]) for i in range(len(data))]\n",
    "    sim_cosin_token_comm = []\n",
    "    sim_cosin_token_code = []\n",
    "    sim_cosin_sent_comm = []\n",
    "    gap_list = []\n",
    "    index_d_list = []\n",
    "    index_o_list =[]\n",
    "    for i in tqdm(range(len(data))):\n",
    "        comm_sim = cos_sim(semantics['semantics_comm_1'][i],semantics['semantics_comm_2'][i])\n",
    "        code_sim = cos_sim(semantics['semantics_code_1'][i],semantics['semantics_code_2'][i])\n",
    "        comm_sentsim = cos_sim(semantics['sent_semantics_comm_1'][i],semantics['sent_semantics_comm_2'][i])\n",
    "        sim_cosin_token_comm.append(comm_sim)\n",
    "        sim_cosin_token_code.append(code_sim)\n",
    "        sim_cosin_sent_comm.append(comm_sentsim)\n",
    "\n",
    "        gap = 1-abs(cos_sim(semantics['semantics_comm_1'][i],semantics['semantics_comm_2'][i]) - \\\n",
    "                    cos_sim(semantics['semantics_code_1'][i],semantics['semantics_code_2'][i]))\n",
    "        gap_list.append(gap)\n",
    "    \n",
    "        # long_comm = len(data.old_comment[i].strip().split()) >=3 and len(data.new_comment[i].strip().split()) >=3\n",
    "        if tag=='aaai21':\n",
    "            long_comm = len(data.old_comment[i].strip().split()) >=3 and len(data.new_comment[i].strip().split()) >=3\n",
    "        else:\n",
    "            long_comm = len(data.old_comment[i].strip().split()) >=2 and len(data.new_comment[i].strip().split()) >=2\n",
    "        d = diffsim(semantics['semantics_diff_code'][i],semantics['semantics_diff_comm'][i], long_comm)\n",
    "        # d = cos_sim(semantics['semantics_diff_code'][i],semantics['semantics_diff_comm'][i])\n",
    "        \n",
    "        o = overlap_metrixv2(comm_change_list[i], code_change_list[i], long_comm)\n",
    "        index_d_list.append(d)\n",
    "        index_o_list.append(o)\n",
    "    # c11\n",
    "    scores = []\n",
    "    usings = []\n",
    "    all_scores = []\n",
    "    diffc11 = []\n",
    "    for i in tqdm(range(len(data))):\n",
    "        dc = index_d_list[i]*max(sim_cosin_token_comm[i], sim_cosin_token_code[i])\n",
    "        og = og = index_o_list[i]*max(sim_cosin_token_comm[i], sim_cosin_token_code[i])\n",
    "        cc = sim_cosin_token_code[i]*sim_cosin_sent_comm[i]*sim_cosin_token_comm[i]\n",
    "        indexs = [cc, dc, og]\n",
    "        score = max(cc, dc, og)\n",
    "        all_scores.append(indexs)\n",
    "        using = indexs.index(score)\n",
    "        scores.append(max(cc, dc, og))\n",
    "        usings.append(using)\n",
    "        if i == 775:\n",
    "            print([cc,dc,og])\n",
    "            print(score)\n",
    "        diffc11.append(score)\n",
    "    print(usings.count(0),usings.count(1),usings.count(2))\n",
    "\n",
    "    data['score'] = scores\n",
    "    data['using'] = usings\n",
    "    df = data.sort_values(by=\"score\", ascending=True) \n",
    "    df[['old_comment', 'new_comment', 'old_code', 'new_code','split', 'using', 'score']].to_excel(f'./CaseStudy/{tag}-scores.xlsx')\n",
    "\n",
    "    plt.hist(scores, color = 'gray', bins=100)\n",
    "    # plt.title('scores')\n",
    "    plt.savefig(f'{tag}.jpg', dpi=300)\n",
    "    plt.show()\n",
    "    \n",
    "    return diffc11"
   ]
  },
  {
   "cell_type": "code",
   "execution_count": 3,
   "metadata": {},
   "outputs": [],
   "source": [
    "def refine_data(data, scores, anchor, tgt_dir):\n",
    "    print(tgt_dir)\n",
    "    print(anchor)\n",
    "    assert len(data) == len(scores)\n",
    "    keep = []\n",
    "    score = []\n",
    "    for i in range(len(data)):\n",
    "        score.append(scores[i])\n",
    "        if scores[i]<anchor:\n",
    "            keep.append(0)\n",
    "        else:\n",
    "            keep.append(1)\n",
    "    data['keep'] = keep\n",
    "    data['score'] = score\n",
    "    data_cleaned = data.loc[data.keep==1]\n",
    "    data_noising = data.loc[data.keep==0]\n",
    "    train_cleaned = data_cleaned.loc[data_cleaned.split=='train']\n",
    "    valid_cleaned = data_cleaned.loc[data_cleaned.split=='valid']\n",
    "\n",
    "    with open(f\"{tgt_dir}/train_cleaned.json\",'w+') as t:\n",
    "        for i in tqdm(range(len(train_cleaned))):\n",
    "            item = train_cleaned.iloc[i,:].to_dict()\n",
    "            t.write(json.dumps(item)+'\\n')\n",
    "    with open(f\"{tgt_dir}/valid_cleaned.json\",'w+') as t:\n",
    "        for i in tqdm(range(len(valid_cleaned))):\n",
    "            item = valid_cleaned.iloc[i,:].to_dict()\n",
    "            t.write(json.dumps(item)+'\\n')\n",
    "    with open(f\"{tgt_dir}/data_noising.json\",'w+') as t:\n",
    "        for i in tqdm(range(len(data_noising))):\n",
    "            item = data_noising.iloc[i,:].to_dict()\n",
    "            t.write(json.dumps(item)+'\\n')"
   ]
  },
  {
   "cell_type": "code",
   "execution_count": 10,
   "metadata": {},
   "outputs": [
    {
     "name": "stderr",
     "output_type": "stream",
     "text": [
      "100%|██████████| 6503/6503 [00:38<00:00, 169.15it/s]\n",
      "100%|██████████| 6503/6503 [00:00<00:00, 478661.34it/s]\n"
     ]
    },
    {
     "name": "stdout",
     "output_type": "stream",
     "text": [
      "[0.7414804569816736, 0.97499450405819, 0.9749945040596458]\n",
      "0.9749945040596458\n",
      "1137 2154 3212\n"
     ]
    },
    {
     "data": {
      "image/png": "[encoded data removed]",
      "text/plain": [
       "<Figure size 640x480 with 1 Axes>"
      ]
     },
     "metadata": {},
     "output_type": "display_data"
    },
    {
     "name": "stdout",
     "output_type": "stream",
     "text": [
      "gcbgcb01\n",
      "Lambda num: 2\n",
      "Avg, std and var:  0.8401260695576238 0.14503218014515523 0.021034333277656758\n",
      "New anchor:  0.6414319827587611  Area of this anchor:  0.04920805781946794\n",
      "(0.04920805781946794, 0.039673996616946025, 0.009534061202521912)\n",
      "remove rate:  0.04920805781946794\n",
      "gcbgcb02\n",
      "Lambda num: 2\n",
      "Avg, std and var:  0.8401260695576238 0.14503218014515523 0.021034333277656758\n",
      "New anchor:  0.680590671397953  Area of this anchor:  0.09288020913424573\n",
      "(0.09288020913424573, 0.07304321082577273, 0.019836998308473006)\n",
      "remove rate:  0.09288020913424573\n",
      "gcbgcb03\n",
      "Lambda num: 2\n",
      "Avg, std and var:  0.8401260695576238 0.14503218014515523 0.021034333277656758\n",
      "New anchor:  0.722650003640048  Area of this anchor:  0.17099800092265108\n",
      "(0.17099800092265108, 0.14101184068891282, 0.029986160233738263)\n",
      "remove rate:  0.17099800092265108\n",
      "gcbgcb04\n",
      "Lambda num: 2\n",
      "Avg, std and var:  0.8401260695576238 0.14503218014515523 0.021034333277656758\n",
      "New anchor:  0.7835635193010133  Area of this anchor:  0.32707980931877595\n",
      "(0.32707980931877595, 0.2872520375211441, 0.03982777179763186)\n",
      "remove rate:  0.32707980931877595\n",
      "gcbgcb05\n",
      "Lambda num: 2\n",
      "Avg, std and var:  0.8401260695576238 0.14503218014515523 0.021034333277656758\n"
     ]
    }
   ],
   "source": [
    "comm = 'gcb'\n",
    "code = 'gcb'\n",
    "tgt_dir = './CodeT5/data/comment_update/ACL20/'\n",
    "split = ['train','valid']\n",
    "length = []\n",
    "items = []\n",
    "data = pd.DataFrame()\n",
    "for s in split:\n",
    "    temp = pd.read_json(f'../ACL20/comment_update/{s}.json')\n",
    "    data = pd.concat([data, temp])\n",
    "    length.append(len(temp))\n",
    "data.reset_index(drop=True, inplace=True)\n",
    "data['split'] = ['train']*length[0]+['valid']*length[1]\n",
    "\n",
    "with open(f\"acl20_semanticsv2.pkl\",'rb') as sf:\n",
    "    semantics = pickle.load(sf)\n",
    "\n",
    "scores = get_scores(data, semantics,'acl20')\n",
    "\n",
    "\n",
    "score_list = scores\n",
    "thresholds = [0.01,0.02,0.03,0.04,0.05,0.06,0.07,0.08,0.09,0.1]\n",
    "\n",
    "for threshold in thresholds:\n",
    "    threshold_tag = str(threshold)[str(threshold).index('.')+1:]\n",
    "    tag = comm+code+threshold_tag\n",
    "    print(tag)\n",
    "    a = heuristic_search(score_list, threshold)\n",
    "    if a == 0.0:\n",
    "        break\n",
    "    print('remove rate: ',len([s for s in score_list if s < a])/len(score_list))\n",
    "threshold = thresholds[thresholds.index(threshold)-1]"
   ]
  },
  {
   "cell_type": "code",
   "execution_count": 5,
   "metadata": {},
   "outputs": [
    {
     "name": "stdout",
     "output_type": "stream",
     "text": [
      "Lambda num: 2\n",
      "Avg, std and var:  0.8401260695576238 0.14503218014515523 0.021034333277656758\n",
      "New anchor:  0.7835635193010133  Area of this anchor:  0.32707980931877595\n",
      "(0.32707980931877595, 0.2872520375211441, 0.03982777179763186)\n",
      "./CodeT5/data/comment_update/ACL20/\n",
      "0.7835635193010133\n"
     ]
    },
    {
     "name": "stderr",
     "output_type": "stream",
     "text": [
      "100%|██████████| 3899/3899 [00:01<00:00, 3249.93it/s]\n",
      "100%|██████████| 477/477 [00:00<00:00, 2565.71it/s]\n",
      "100%|██████████| 2127/2127 [00:00<00:00, 2914.39it/s]\n"
     ]
    }
   ],
   "source": [
    "for threshold in [0.04]:\n",
    "    m_values = heuristic_search(scores, threshold)\n",
    "    refine_data(data, scores, m_values, tgt_dir)"
   ]
  },
  {
   "cell_type": "code",
   "execution_count": 11,
   "metadata": {},
   "outputs": [
    {
     "name": "stderr",
     "output_type": "stream",
     "text": [
      "100%|██████████| 18372/18372 [02:13<00:00, 137.58it/s]\n",
      "100%|██████████| 18372/18372 [00:00<00:00, 445876.72it/s]\n"
     ]
    },
    {
     "name": "stdout",
     "output_type": "stream",
     "text": [
      "[0.7454093188526258, 0.6807598705548038, 0.597592930965607]\n",
      "0.7454093188526258\n",
      "4413 3140 10819\n"
     ]
    },
    {
     "data": {
      "image/png": "[encoded data removed]",
      "text/plain": [
       "<Figure size 640x480 with 1 Axes>"
      ]
     },
     "metadata": {},
     "output_type": "display_data"
    },
    {
     "name": "stdout",
     "output_type": "stream",
     "text": [
      "gcbgcb01\n",
      "Lambda num: 2\n",
      "Avg, std and var:  0.864969849004257 0.12628418445636214 0.0159476952438085\n",
      "New anchor:  0.7008004092109862  Area of this anchor:  0.06814718049205312\n",
      "(0.06814718049205312, 0.05900283039407794, 0.009144350097975179)\n",
      "remove rate:  0.06814718049205312\n",
      "gcbgcb02\n",
      "Lambda num: 2\n",
      "Avg, std and var:  0.864969849004257 0.12628418445636214 0.0159476952438085\n",
      "New anchor:  0.7374228227033313  Area of this anchor:  0.11376006967123885\n",
      "(0.11376006967123885, 0.09400174178097104, 0.01975832789026781)\n",
      "remove rate:  0.11376006967123885\n",
      "gcbgcb03\n",
      "Lambda num: 2\n",
      "Avg, std and var:  0.864969849004257 0.12628418445636214 0.0159476952438085\n",
      "New anchor:  0.7702567106619854  Area of this anchor:  0.17924014805138253\n",
      "(0.17924014805138253, 0.14995645547572392, 0.029283692575658604)\n",
      "remove rate:  0.17924014805138253\n",
      "gcbgcb04\n",
      "Lambda num: 2\n",
      "Avg, std and var:  0.864969849004257 0.12628418445636214 0.0159476952438085\n"
     ]
    }
   ],
   "source": [
    "comm = 'gcb'\n",
    "code = 'gcb'\n",
    "tgt_dir = './CodeT5/data/comment_update/AAAI21/'\n",
    "split = ['train','valid']\n",
    "length = []\n",
    "items = []\n",
    "data = pd.DataFrame()\n",
    "for s in split:\n",
    "    temp = pd.read_json(f'./AAAI21/dataset/{s}.json')\n",
    "    data = pd.concat([data, temp])\n",
    "    length.append(len(temp))\n",
    "data.reset_index(drop=True, inplace=True)\n",
    "data['split'] = ['train']*length[0]+['valid']*length[1]\n",
    "data = data.rename(columns={'old_comment_raw':'old_comment',\"new_comment_raw\":\"new_comment\",\\\n",
    "                            \"old_code_raw\":\"old_code\", \"new_code_raw\":\"new_code\" })\n",
    "\n",
    "with open(f\"aaai21_semanticsv2.pkl\",'rb') as sf:\n",
    "    semantics = pickle.load(sf)\n",
    "\n",
    "scores = get_scores(data, semantics, 'aaai21')\n",
    "\n",
    "\n",
    "score_list = scores\n",
    "thresholds = [0.01,0.02,0.03,0.04,0.05,0.06,0.07,0.08,0.09,0.1]\n",
    "\n",
    "for threshold in thresholds:\n",
    "    threshold_tag = str(threshold)[str(threshold).index('.')+1:]\n",
    "    tag = comm+code+threshold_tag\n",
    "    print(tag)\n",
    "    a = heuristic_search(score_list, threshold)\n",
    "    if a == 0.0:\n",
    "        break\n",
    "    print('remove rate: ',len([s for s in score_list if s < a])/len(score_list))\n",
    "threshold = thresholds[thresholds.index(threshold)-1]"
   ]
  },
  {
   "cell_type": "code",
   "execution_count": 7,
   "metadata": {},
   "outputs": [
    {
     "name": "stdout",
     "output_type": "stream",
     "text": [
      "Lambda num: 2\n",
      "Avg, std and var:  0.864969849004257 0.12628418445636214 0.0159476952438085\n",
      "New anchor:  0.7702567106619854  Area of this anchor:  0.17924014805138253\n",
      "(0.17924014805138253, 0.14995645547572392, 0.029283692575658604)\n",
      "./CodeT5/data/comment_update/AAAI21/\n",
      "0.7702567106619854\n"
     ]
    },
    {
     "name": "stderr",
     "output_type": "stream",
     "text": [
      "100%|██████████| 13556/13556 [00:04<00:00, 3178.49it/s]\n",
      "100%|██████████| 1523/1523 [00:00<00:00, 3056.03it/s]\n",
      "100%|██████████| 3293/3293 [00:00<00:00, 3356.87it/s]\n"
     ]
    }
   ],
   "source": [
    "for threshold in [0.03]:\n",
    "    m_values = heuristic_search(scores, threshold)\n",
    "    refine_data(data, scores, m_values, tgt_dir)"
   ]
  },
  {
   "cell_type": "code",
   "execution_count": 12,
   "metadata": {},
   "outputs": [
    {
     "name": "stderr",
     "output_type": "stream",
     "text": [
      "100%|██████████| 95132/95132 [06:15<00:00, 253.55it/s]\n",
      "100%|██████████| 95132/95132 [00:00<00:00, 505981.59it/s]\n"
     ]
    },
    {
     "name": "stdout",
     "output_type": "stream",
     "text": [
      "[0.8553190006042056, 0.7445396252230335, 0.6803590305973545]\n",
      "0.8553190006042056\n",
      "38092 14085 42955\n"
     ]
    },
    {
     "data": {
      "image/png": "[encoded data removed]",
      "text/plain": [
       "<Figure size 640x480 with 1 Axes>"
      ]
     },
     "metadata": {},
     "output_type": "display_data"
    },
    {
     "name": "stdout",
     "output_type": "stream",
     "text": [
      "gcbgcb01\n",
      "Lambda num: 2\n",
      "Avg, std and var:  0.8737697677589766 0.1068509916963424 0.011417134426491834\n",
      "New anchor:  0.713493280214463  Area of this anchor:  0.05338897531850481\n",
      "(0.05338897531850481, 0.04346592103603414, 0.009923054282470672)\n",
      "remove rate:  0.05338897531850481\n",
      "gcbgcb02\n",
      "Lambda num: 2\n",
      "Avg, std and var:  0.8737697677589766 0.1068509916963424 0.011417134426491834\n",
      "New anchor:  0.7605077165608537  Area of this anchor:  0.12355463986881386\n",
      "(0.12355463986881386, 0.10372955472396249, 0.019825085144851373)\n",
      "remove rate:  0.12355463986881386\n",
      "gcbgcb03\n",
      "Lambda num: 2\n",
      "Avg, std and var:  0.8737697677589766 0.1068509916963424 0.011417134426491834\n",
      "New anchor:  0.811796192575098  Area of this anchor:  0.2524912752806627\n",
      "(0.2524912752806627, 0.22305848715469032, 0.02943278812597236)\n",
      "remove rate:  0.2524912752806627\n",
      "gcbgcb04\n",
      "Lambda num: 2\n",
      "Avg, std and var:  0.8737697677589766 0.1068509916963424 0.011417134426491834\n"
     ]
    }
   ],
   "source": [
    "comm = 'gcb'\n",
    "code = 'gcb'\n",
    "tgt_dir = './CodeT5/data/comment_update/ASE20/'\n",
    "\n",
    "split = ['train','valid']\n",
    "length = []\n",
    "items = []\n",
    "for s in split:\n",
    "    num = 0\n",
    "    with open(f\"../CUPData/dataset/{s}.jsonl\", \"r+\", encoding=\"utf8\") as f:\n",
    "        for item in f.readlines():\n",
    "            items.append(json.loads(item))\n",
    "            num+=1\n",
    "        length.append(num)\n",
    "data = pd.DataFrame(items)\n",
    "data['split'] = ['train']*length[0]+['valid']*length[1]\n",
    "data = data.rename(columns={'src_desc':'old_comment',\"dst_desc\":\"new_comment\",\\\n",
    "                        \"src_method\":\"old_code\", \"dst_method\":\"new_code\" })\n",
    "with open(f\"cup_semanticsv2.pkl\",'rb') as sf:\n",
    "    semantics = pickle.load(sf)\n",
    "\n",
    "scores = get_scores(data, semantics,'ase20')\n",
    "\n",
    "\n",
    "score_list = scores\n",
    "thresholds = [0.01,0.02,0.03,0.04,0.05,0.06,0.07,0.08,0.09,0.1]\n",
    "\n",
    "for threshold in thresholds:\n",
    "    threshold_tag = str(threshold)[str(threshold).index('.')+1:]\n",
    "    tag = comm+code+threshold_tag\n",
    "    print(tag)\n",
    "    a = heuristic_search(score_list, threshold)\n",
    "    if a == 0.0:\n",
    "        break\n",
    "    print('remove rate: ',len([s for s in score_list if s < a])/len(score_list))\n",
    "threshold = thresholds[thresholds.index(threshold)-1]"
   ]
  },
  {
   "cell_type": "code",
   "execution_count": 9,
   "metadata": {},
   "outputs": [
    {
     "name": "stdout",
     "output_type": "stream",
     "text": [
      "Lambda num: 2\n",
      "Avg, std and var:  0.8737697677589766 0.1068509916963424 0.011417134426491834\n",
      "New anchor:  0.7605077165608537  Area of this anchor:  0.12355463986881386\n",
      "(0.12355463986881386, 0.10372955472396249, 0.019825085144851373)\n",
      "./CodeT5/data/comment_update/ASE20/\n",
      "0.7605077165608537\n"
     ]
    },
    {
     "name": "stderr",
     "output_type": "stream",
     "text": [
      "100%|██████████| 74975/74975 [00:25<00:00, 2914.36it/s]\n",
      "100%|██████████| 8403/8403 [00:02<00:00, 3065.86it/s]\n",
      "100%|██████████| 11754/11754 [00:03<00:00, 3200.60it/s]\n"
     ]
    }
   ],
   "source": [
    "for threshold in [0.02]:\n",
    "    m_values = heuristic_search(scores, threshold)\n",
    "    refine_data(data, scores, m_values, tgt_dir)"
   ]
  },
  {
   "cell_type": "code",
   "execution_count": null,
   "metadata": {},
   "outputs": [],
   "source": []
  }
 ],
 "metadata": {
  "kernelspec": {
   "display_name": "torch",
   "language": "python",
   "name": "python3"
  },
  "language_info": {
   "codemirror_mode": {
    "name": "ipython",
    "version": 3
   },
   "file_extension": ".py",
   "mimetype": "text/x-python",
   "name": "python",
   "nbconvert_exporter": "python",
   "pygments_lexer": "ipython3",
   "version": "3.9.15"
  },
  "orig_nbformat": 4
 },
 "nbformat": 4,
 "nbformat_minor": 2
}
