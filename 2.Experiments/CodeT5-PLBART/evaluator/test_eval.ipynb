{
 "cells": [
  {
   "cell_type": "code",
   "execution_count": 2,
   "metadata": {},
   "outputs": [
    {
     "name": "stdout",
     "output_type": "stream",
     "text": [
      "args:  Namespace(hyps='../sh/saved_models/comment_update/ASE20/codet5_base_all_lr5_bs10_src350_trg150_pat3_e30/prediction/test_best-bleu.output', metrics='accuracy,recall,distance,nlg', model_type='codet5', test_set='../data/comment_update/ASE20/test.json')\n",
      "============== [['Ex', 'am', 'ines', 'Ġthe', 'Ġun', 'dist', 'orted', 'Ġgray', 'Ġsc', 'ake', 'Ġinput', 'Ġimage', 'Ġfor', 'Ġsquare', 'Ġimages', '.']]\n",
      "============== ['Ex', 'am', 'ines', 'Ġthe', 'Ġun', 'dist', 'orted', 'Ġgray', 'Ġscale', 'Ġinput', 'Ġimage', 'Ġfor', 'Ġsquares', '.']\n",
      "============== ['Ex', 'am', 'ines', 'Ġthe', 'Ġun', 'dist', 'orted', 'Ġgray', 'Ġsc', 'ake', 'Ġinput', 'Ġimage', 'Ġfor', 'Ġsquares', '.']\n",
      "INFO:root:{'accuracy': {'accuracy': 0.2230952134808229, 'correct_count': 2158}, 'recall': 0.2230952134808229, 'distance': {'rel_distance': 1.339765930924488, 'hypo_distance': 4.186705262069679, 'src_distance': 3.823219270133361}, 'nlg': {'Bleu_4': 0.7021836061962153, 'METEOR': 0.4977312232291328}}\n",
      "{'accuracy': {'accuracy': 0.2230952134808229, 'correct_count': 2158}, 'recall': 0.2230952134808229, 'distance': {'rel_distance': 1.339765930924488, 'hypo_distance': 4.186705262069679, 'src_distance': 3.823219270133361}, 'nlg': {'Bleu_4': 0.7021836061962153, 'METEOR': 0.4977312232291328}}\n"
     ]
    }
   ],
   "source": [
    "test_set = '../data/comment_update/ASE20/test.json'\n",
    "hyps = '../sh/saved_models/comment_update/ASE20/codet5_base_all_lr5_bs10_src350_trg150_pat3_e30/prediction/test_best-bleu.output'\n",
    "!python eval.py --test_set $test_set --hyps $hyps"
   ]
  },
  {
   "cell_type": "code",
   "execution_count": null,
   "metadata": {},
   "outputs": [],
   "source": []
  }
 ],
 "metadata": {
  "kernelspec": {
   "display_name": "torch",
   "language": "python",
   "name": "python3"
  },
  "language_info": {
   "codemirror_mode": {
    "name": "ipython",
    "version": 3
   },
   "file_extension": ".py",
   "mimetype": "text/x-python",
   "name": "python",
   "nbconvert_exporter": "python",
   "pygments_lexer": "ipython3",
   "version": "3.9.15"
  },
  "orig_nbformat": 4,
  "vscode": {
   "interpreter": {
    "hash": "d4452e2bdeee69016da0b15efe6253a991feba940d72e58867c0c229bb1b2d5c"
   }
  }
 },
 "nbformat": 4,
 "nbformat_minor": 2
}
